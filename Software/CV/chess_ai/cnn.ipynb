{
 "cells": [
  {
   "cell_type": "code",
   "execution_count": 21,
   "metadata": {},
   "outputs": [],
   "source": [
    "import numpy as  np\n",
    "import os\n",
    "from sklearn.model_selection import train_test_split\n",
    "import keras\n",
    "import matplotlib.pyplot as plt\n",
    "from keras.layers import Dense, Flatten\n",
    "from keras.layers import Conv2D, MaxPooling2D\n",
    "from keras.models import Sequential, load_model"
   ]
  },
  {
   "cell_type": "code",
   "execution_count": 13,
   "metadata": {},
   "outputs": [
    {
     "name": "stdout",
     "output_type": "stream",
     "text": [
      "(60, 60, 1)\n"
     ]
    }
   ],
   "source": [
    "#load images\n",
    "images = np.load(\"images.npy\")\n",
    "labels = np.load(\"labels.npy\")\n",
    "\n",
    "\n",
    "#\n",
    "\n",
    "\n",
    "x_train, x_test, y_train, y_test = train_test_split(images,labels,test_size=0.33)\n",
    "x_train = x_train.astype('float32')\n",
    "x_test = x_test.astype('float32')\n",
    "x_train /= 255\n",
    "x_test /= 255\n",
    "input_shape = images.shape[1:]\n",
    "batch_size = 50 \n",
    "epochs = 10 \n",
    "print(input_shape)\n",
    "\n",
    "#process data\n",
    "num_classes = 3\n",
    "y_train = keras.utils.to_categorical(y_train, num_classes)\n",
    "y_test = keras.utils.to_categorical(y_test, num_classes)"
   ]
  },
  {
   "cell_type": "code",
   "execution_count": 25,
   "metadata": {},
   "outputs": [
    {
     "name": "stdout",
     "output_type": "stream",
     "text": [
      "[0. 0. 1.]\n"
     ]
    },
    {
     "data": {
      "image/png": "[encoded data removed]",
      "text/plain": [
       "<matplotlib.figure.Figure at 0x221b4760860>"
      ]
     },
     "metadata": {},
     "output_type": "display_data"
    }
   ],
   "source": [
    "plt.imshow(x_train[1009,:,:,:].reshape(60,60,),cmap='Greys')\n",
    "print(y_train[1009])"
   ]
  },
  {
   "cell_type": "code",
   "execution_count": 15,
   "metadata": {
    "collapsed": true
   },
   "outputs": [],
   "source": []
  },
  {
   "cell_type": "code",
   "execution_count": 16,
   "metadata": {},
   "outputs": [],
   "source": [
    "#add model\n",
    "\n",
    "model = Sequential()\n",
    "model.add(Conv2D(32, kernel_size=(5, 5), strides=(1, 1),\n",
    "                 activation='relu',\n",
    "                 input_shape=input_shape))\n",
    "model.add(MaxPooling2D(pool_size=(2, 2), strides=(2, 2)))\n",
    "model.add(Conv2D(64, (5, 5), activation='relu'))\n",
    "model.add(MaxPooling2D(pool_size=(2, 2)))\n",
    "model.add(Flatten())\n",
    "model.add(Dense(1000, activation='relu'))\n",
    "model.add(Dense(num_classes, activation='softmax'))\n",
    "\n",
    "model.compile(loss=keras.losses.categorical_crossentropy,\n",
    "              optimizer=keras.optimizers.Adam(),\n",
    "              metrics=['accuracy'])\n",
    "\n",
    "\n",
    "class AccuracyHistory(keras.callbacks.Callback):\n",
    "    def on_train_begin(self, logs={}):\n",
    "        self.acc = []\n",
    "\n",
    "    def on_epoch_end(self, batch, logs={}):\n",
    "        self.acc.append(logs.get('acc'))\n",
    "\n",
    "history = AccuracyHistory()\n"
   ]
  },
  {
   "cell_type": "code",
   "execution_count": 17,
   "metadata": {},
   "outputs": [
    {
     "name": "stdout",
     "output_type": "stream",
     "text": [
      "Train on 3859 samples, validate on 1901 samples\n",
      "Epoch 1/10\n",
      "3859/3859 [==============================] - 29s - loss: 0.3548 - acc: 0.8544 - val_loss: 0.1160 - val_acc: 0.9558\n",
      "Epoch 2/10\n",
      "3859/3859 [==============================] - 28s - loss: 0.0463 - acc: 0.9863 - val_loss: 0.0042 - val_acc: 1.0000\n",
      "Epoch 3/10\n",
      "3859/3859 [==============================] - 28s - loss: 0.0020 - acc: 1.0000 - val_loss: 0.0014 - val_acc: 1.0000\n",
      "Epoch 4/10\n",
      "3859/3859 [==============================] - 28s - loss: 6.5436e-04 - acc: 1.0000 - val_loss: 9.2985e-04 - val_acc: 1.0000\n",
      "Epoch 5/10\n",
      "3859/3859 [==============================] - 28s - loss: 2.9747e-04 - acc: 1.0000 - val_loss: 2.3615e-04 - val_acc: 1.0000\n",
      "Epoch 6/10\n",
      "3859/3859 [==============================] - 28s - loss: 1.3897e-04 - acc: 1.0000 - val_loss: 1.1868e-04 - val_acc: 1.0000\n",
      "Epoch 7/10\n",
      "3859/3859 [==============================] - 28s - loss: 1.0039e-04 - acc: 1.0000 - val_loss: 1.5941e-04 - val_acc: 1.0000\n",
      "Epoch 8/10\n",
      "3859/3859 [==============================] - 33s - loss: 5.0916e-05 - acc: 1.0000 - val_loss: 4.0260e-05 - val_acc: 1.0000\n",
      "Epoch 9/10\n",
      "3859/3859 [==============================] - 29s - loss: 3.4367e-05 - acc: 1.0000 - val_loss: 3.0183e-05 - val_acc: 1.0000\n",
      "Epoch 10/10\n",
      "3859/3859 [==============================] - 28s - loss: 2.5733e-05 - acc: 1.0000 - val_loss: 2.4053e-05 - val_acc: 1.0000\n",
      "Test loss: 2.4052671500806876e-05\n",
      "Test accuracy: 1.0\n"
     ]
    },
    {
     "data": {
      "image/png": "[encoded data removed]",
      "text/plain": [
       "<matplotlib.figure.Figure at 0x221a2155ac8>"
      ]
     },
     "metadata": {},
     "output_type": "display_data"
    }
   ],
   "source": [
    "model.fit(x_train, y_train,\n",
    "          batch_size=batch_size,\n",
    "          epochs=epochs,\n",
    "          verbose=1,\n",
    "          validation_data=(x_test, y_test),\n",
    "          callbacks=[history])\n",
    "score = model.evaluate(x_test, y_test, verbose=0)\n",
    "print('Test loss:', score[0])\n",
    "print('Test accuracy:', score[1])\n",
    "plt.plot(range(1, 11), history.acc)\n",
    "plt.xlabel('Epochs')\n",
    "plt.ylabel('Accuracy')\n",
    "plt.show()"
   ]
  },
  {
   "cell_type": "code",
   "execution_count": 18,
   "metadata": {
    "collapsed": true
   },
   "outputs": [],
   "source": [
    "model.save('cnn.h5')"
   ]
  },
  {
   "cell_type": "code",
   "execution_count": 19,
   "metadata": {
    "collapsed": true
   },
   "outputs": [],
   "source": [
    "del model"
   ]
  },
  {
   "cell_type": "code",
   "execution_count": 22,
   "metadata": {
    "collapsed": true
   },
   "outputs": [],
   "source": [
    "model = load_model('cnn.h5')"
   ]
  },
  {
   "cell_type": "code",
   "execution_count": 24,
   "metadata": {},
   "outputs": [
    {
     "data": {
      "text/plain": [
       "array([[3.5659689e-06, 1.7756749e-08, 9.9999642e-01]], dtype=float32)"
      ]
     },
     "execution_count": 24,
     "metadata": {},
     "output_type": "execute_result"
    }
   ],
   "source": [
    "model.predict(x_train[1009,:,:,:].reshape((1,60,60,1)))"
   ]
  },
  {
   "cell_type": "code",
   "execution_count": null,
   "metadata": {
    "collapsed": true
   },
   "outputs": [],
   "source": []
  }
 ],
 "metadata": {
  "kernelspec": {
   "display_name": "Python 3",
   "language": "python",
   "name": "python3"
  },
  "language_info": {
   "codemirror_mode": {
    "name": "ipython",
    "version": 3
   },
   "file_extension": ".py",
   "mimetype": "text/x-python",
   "name": "python",
   "nbconvert_exporter": "python",
   "pygments_lexer": "ipython3",
   "version": "3.6.1"
  }
 },
 "nbformat": 4,
 "nbformat_minor": 2
}
